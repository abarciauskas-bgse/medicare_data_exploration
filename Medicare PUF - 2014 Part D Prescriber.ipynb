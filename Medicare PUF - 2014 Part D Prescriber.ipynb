{
 "cells": [
  {
   "cell_type": "markdown",
   "metadata": {},
   "source": [
    "# Medicare Provider Utilization and Payment Data: 2014 Part D Prescriber\n",
    "\n",
    "[Data Source](https://data.cms.gov/Medicare-Claims/Medicare-Provider-Utilization-and-Payment-Data-201/465c-49pb)"
   ]
  },
  {
   "cell_type": "code",
   "execution_count": 111,
   "metadata": {
    "collapsed": false
   },
   "outputs": [],
   "source": [
    "import urllib.request\n",
    "url = 'https://data.cms.gov/resource/uggq-gnqc.json?$limit=1000'\n",
    "data_bytes = urllib.request.urlopen(url).read()"
   ]
  },
  {
   "cell_type": "code",
   "execution_count": 112,
   "metadata": {
    "collapsed": false
   },
   "outputs": [
    {
     "data": {
      "text/plain": [
       "{'bene_count': '12',\n",
       " 'bene_count_ge65': '12',\n",
       " 'description_flag': 'S',\n",
       " 'drug_name': 'POTASSIUM CHLORIDE',\n",
       " 'generic_name': 'POTASSIUM CHLORIDE',\n",
       " 'npi': '1821069519',\n",
       " 'nppes_provider_city': 'ARDMORE',\n",
       " 'nppes_provider_first_name': 'SUSAN',\n",
       " 'nppes_provider_last_org_name': 'SANDLER',\n",
       " 'nppes_provider_state': 'PA',\n",
       " 'specialty_desc': 'Family Practice',\n",
       " 'total_30_day_fill_count': '66',\n",
       " 'total_30_day_fill_count_ge65': '66',\n",
       " 'total_claim_count': '46',\n",
       " 'total_claim_count_ge65': '46',\n",
       " 'total_day_supply': '1939',\n",
       " 'total_day_supply_ge65': '1939',\n",
       " 'total_drug_cost': '1305.29',\n",
       " 'total_drug_cost_ge65': '1305.29'}"
      ]
     },
     "execution_count": 112,
     "metadata": {},
     "output_type": "execute_result"
    }
   ],
   "source": [
    "import json\n",
    "data_string = data_bytes.decode('utf-8')\n",
    "data_json = json.loads(str(data_string))\n",
    "data_json[0]"
   ]
  },
  {
   "cell_type": "markdown",
   "metadata": {},
   "source": [
    "I'm interested to know distribution of average drug cost for any one drug. The total drug cost is `total_drug_cost`. It's less clear what column to use for the total distribution, but `total_day_supply` seems most correct."
   ]
  },
  {
   "cell_type": "code",
   "execution_count": 146,
   "metadata": {
    "collapsed": false
   },
   "outputs": [
    {
     "data": {
      "text/plain": [
       "True"
      ]
     },
     "execution_count": 146,
     "metadata": {},
     "output_type": "execute_result"
    }
   ],
   "source": [
    "# Create a new column 'average_drug_day_cost'\n",
    "import numpy as np\n",
    "import pandas as pd\n",
    "\n",
    "df = pd.read_json(data_string)\n",
    "df.average_drug_day_cost = df['total_day_supply']/df['total_drug_cost']\n",
    "\n",
    "# What are the most popular drugs perscribed? Using generic name here but drug name may also be interesting.\n",
    "grouped = df.groupby('generic_name')\n",
    "top_20_drug_names = grouped.size().sort_values(ascending=False)[0:20].keys()\n",
    "'WARFARIN SODIUM' in top_20_drug_names"
   ]
  },
  {
   "cell_type": "code",
   "execution_count": 151,
   "metadata": {
    "collapsed": false
   },
   "outputs": [
    {
     "data": {
      "text/plain": [
       "<pandas.core.groupby.DataFrameGroupBy object at 0x1144cf518>"
      ]
     },
     "execution_count": 151,
     "metadata": {},
     "output_type": "execute_result"
    }
   ],
   "source": [
    "grouped"
   ]
  },
  {
   "cell_type": "code",
   "execution_count": 158,
   "metadata": {
    "collapsed": false
   },
   "outputs": [],
   "source": [
    "groups = grouped.groups"
   ]
  },
  {
   "cell_type": "code",
   "execution_count": 159,
   "metadata": {
    "collapsed": false
   },
   "outputs": [],
   "source": [
    "top_20_groups = []\n",
    "for group_name in groups:\n",
    "    if group_name in top_20_drug_names:\n",
    "        top_20_groups.append(groups[group_name])\n"
   ]
  },
  {
   "cell_type": "code",
   "execution_count": 160,
   "metadata": {
    "collapsed": false
   },
   "outputs": [],
   "source": [
    "# import numpy as np\n",
    "# import matplotlib.pyplot as plt\n",
    "# %matplotlib inline\n",
    "\n",
    "# x = first_group.average_drug_day_cost\n",
    "# y = first_group.total_claim_count\n",
    "\n",
    "# plt.scatter(x, y, alpha=0.5)\n",
    "# plt.show()"
   ]
  },
  {
   "cell_type": "code",
   "execution_count": 161,
   "metadata": {
    "collapsed": false
   },
   "outputs": [
    {
     "name": "stdout",
     "output_type": "stream",
     "text": [
      "0.557529379612\n"
     ]
    },
    {
     "data": {
      "text/plain": [
       "5.7188244638602059"
      ]
     },
     "execution_count": 161,
     "metadata": {},
     "output_type": "execute_result"
    }
   ],
   "source": [
    "# print(first_group.average_drug_day_cost.min())\n",
    "# first_group.average_drug_day_cost.max()"
   ]
  },
  {
   "cell_type": "code",
   "execution_count": 196,
   "metadata": {
    "collapsed": false
   },
   "outputs": [
    {
     "name": "stdout",
     "output_type": "stream",
     "text": [
      "WARFARIN SODIUM\n",
      "OMEPRAZOLE\n",
      "ATORVASTATIN CALCIUM\n",
      "BUPROPION HCL\n",
      "HYDROCHLOROTHIAZIDE\n",
      "ALBUTEROL SULFATE\n",
      "SIMVASTATIN\n",
      "NIFEDIPINE\n",
      "AMLODIPINE BESYLATE\n",
      "LEVOTHYROXINE SODIUM\n",
      "LOSARTAN POTASSIUM\n",
      "VALSARTAN\n",
      "GABAPENTIN\n",
      "HYDROCODONE/ACETAMINOPHEN\n",
      "METFORMIN HCL\n",
      "CLOPIDOGREL BISULFATE\n",
      "TRAMADOL HCL\n",
      "PANTOPRAZOLE SODIUM\n",
      "METOPROLOL TARTRATE\n",
      "GLIPIZIDE\n"
     ]
    },
    {
     "data": {
      "text/plain": [
       "244"
      ]
     },
     "execution_count": 196,
     "metadata": {},
     "output_type": "execute_result"
    }
   ],
   "source": [
    "# for every item in every group, I want to save the group's name, index and the avg drug cost value\n",
    "results = []\n",
    "\n",
    "for idx, group in enumerate(top_20_groups):\n",
    "    group_rows = df.iloc[group]\n",
    "    group_rows.average_drug_day_cost = group_rows['total_day_supply']/group_rows['total_drug_cost']    \n",
    "    drug_name = group_rows.iloc[[0]].generic_name.values[0]\n",
    "    print(drug_name)\n",
    "    for value in group_rows.average_drug_day_cost:\n",
    "        results.append([idx, drug_name, value])\n",
    "        \n",
    "len(results)"
   ]
  },
  {
   "cell_type": "code",
   "execution_count": 197,
   "metadata": {
    "collapsed": false
   },
   "outputs": [],
   "source": [
    "import csv\n",
    "\n",
    "my_df = pd.DataFrame(results)\n",
    "my_df.to_csv('drugs/average_drug_costs.csv', index=False, header=True)"
   ]
  }
 ],
 "metadata": {
  "kernelspec": {
   "display_name": "Python 3",
   "language": "python",
   "name": "python3"
  },
  "language_info": {
   "codemirror_mode": {
    "name": "ipython",
    "version": 3
   },
   "file_extension": ".py",
   "mimetype": "text/x-python",
   "name": "python",
   "nbconvert_exporter": "python",
   "pygments_lexer": "ipython3",
   "version": "3.5.1"
  }
 },
 "nbformat": 4,
 "nbformat_minor": 2
}
