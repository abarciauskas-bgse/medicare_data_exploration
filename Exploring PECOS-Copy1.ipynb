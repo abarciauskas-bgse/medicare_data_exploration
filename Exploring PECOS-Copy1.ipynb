{
 "cells": [
  {
   "cell_type": "code",
   "execution_count": 1,
   "metadata": {
    "collapsed": false
   },
   "outputs": [
    {
     "data": {
      "text/html": [
       "<div>\n",
       "<table border=\"1\" class=\"dataframe\">\n",
       "  <thead>\n",
       "    <tr style=\"text-align: right;\">\n",
       "      <th></th>\n",
       "      <th>NPI</th>\n",
       "      <th>PECOS_ASCT_CNTL_ID</th>\n",
       "      <th>ENRLMT_ID</th>\n",
       "      <th>PROVIDER_TYPE_CD</th>\n",
       "      <th>PROVIDER_TYPE_DESC</th>\n",
       "      <th>STATE_CD</th>\n",
       "      <th>FIRST_NAME</th>\n",
       "      <th>MDL_NAME</th>\n",
       "      <th>LAST_NAME</th>\n",
       "      <th>ORG_NAME</th>\n",
       "      <th>GNDR_SW</th>\n",
       "    </tr>\n",
       "  </thead>\n",
       "  <tbody>\n",
       "    <tr>\n",
       "      <th>0</th>\n",
       "      <td>1003879883</td>\n",
       "      <td>8022920719</td>\n",
       "      <td>I20031103000001</td>\n",
       "      <td>14-16</td>\n",
       "      <td>PRACTITIONER - OBSTETRICS/GYNECOLOGY</td>\n",
       "      <td>PR</td>\n",
       "      <td>ANTONIO</td>\n",
       "      <td>NaN</td>\n",
       "      <td>ALVAREZ RODRIGUEZ</td>\n",
       "      <td>NaN</td>\n",
       "      <td>M</td>\n",
       "    </tr>\n",
       "    <tr>\n",
       "      <th>1</th>\n",
       "      <td>1003976986</td>\n",
       "      <td>7113839812</td>\n",
       "      <td>I20031103000005</td>\n",
       "      <td>14-68</td>\n",
       "      <td>PRACTITIONER - CLINICAL PSYCHOLOGIST</td>\n",
       "      <td>PA</td>\n",
       "      <td>CHRISTOPHER</td>\n",
       "      <td>J</td>\n",
       "      <td>ZIEGLER</td>\n",
       "      <td>NaN</td>\n",
       "      <td>M</td>\n",
       "    </tr>\n",
       "    <tr>\n",
       "      <th>2</th>\n",
       "      <td>1831165075</td>\n",
       "      <td>5193637890</td>\n",
       "      <td>I20031103000013</td>\n",
       "      <td>14-16</td>\n",
       "      <td>PRACTITIONER - OBSTETRICS/GYNECOLOGY</td>\n",
       "      <td>PR</td>\n",
       "      <td>JORGE</td>\n",
       "      <td>A</td>\n",
       "      <td>OSTOLAZA BEY</td>\n",
       "      <td>NaN</td>\n",
       "      <td>M</td>\n",
       "    </tr>\n",
       "    <tr>\n",
       "      <th>3</th>\n",
       "      <td>1851357214</td>\n",
       "      <td>2466364161</td>\n",
       "      <td>I20031103000014</td>\n",
       "      <td>14-30</td>\n",
       "      <td>PRACTITIONER - DIAGNOSTIC RADIOLOGY</td>\n",
       "      <td>KY</td>\n",
       "      <td>RHONDA</td>\n",
       "      <td>G</td>\n",
       "      <td>GRISSOM</td>\n",
       "      <td>NaN</td>\n",
       "      <td>F</td>\n",
       "    </tr>\n",
       "    <tr>\n",
       "      <th>4</th>\n",
       "      <td>1083766935</td>\n",
       "      <td>5092627794</td>\n",
       "      <td>I20031103000015</td>\n",
       "      <td>14-35</td>\n",
       "      <td>PRACTITIONER - CHIROPRACTIC</td>\n",
       "      <td>NJ</td>\n",
       "      <td>TIMOTHY</td>\n",
       "      <td>J</td>\n",
       "      <td>DIECKMAN</td>\n",
       "      <td>NaN</td>\n",
       "      <td>M</td>\n",
       "    </tr>\n",
       "  </tbody>\n",
       "</table>\n",
       "</div>"
      ],
      "text/plain": [
       "          NPI  PECOS_ASCT_CNTL_ID        ENRLMT_ID PROVIDER_TYPE_CD  \\\n",
       "0  1003879883          8022920719  I20031103000001            14-16   \n",
       "1  1003976986          7113839812  I20031103000005            14-68   \n",
       "2  1831165075          5193637890  I20031103000013            14-16   \n",
       "3  1851357214          2466364161  I20031103000014            14-30   \n",
       "4  1083766935          5092627794  I20031103000015            14-35   \n",
       "\n",
       "                     PROVIDER_TYPE_DESC STATE_CD   FIRST_NAME MDL_NAME  \\\n",
       "0  PRACTITIONER - OBSTETRICS/GYNECOLOGY       PR      ANTONIO      NaN   \n",
       "1  PRACTITIONER - CLINICAL PSYCHOLOGIST       PA  CHRISTOPHER        J   \n",
       "2  PRACTITIONER - OBSTETRICS/GYNECOLOGY       PR        JORGE        A   \n",
       "3   PRACTITIONER - DIAGNOSTIC RADIOLOGY       KY       RHONDA        G   \n",
       "4           PRACTITIONER - CHIROPRACTIC       NJ      TIMOTHY        J   \n",
       "\n",
       "           LAST_NAME ORG_NAME GNDR_SW  \n",
       "0  ALVAREZ RODRIGUEZ      NaN       M  \n",
       "1            ZIEGLER      NaN       M  \n",
       "2       OSTOLAZA BEY      NaN       M  \n",
       "3            GRISSOM      NaN       F  \n",
       "4           DIECKMAN      NaN       M  "
      ]
     },
     "execution_count": 1,
     "metadata": {},
     "output_type": "execute_result"
    }
   ],
   "source": [
    "import pandas\n",
    "enrollments = pandas.read_csv('pecos_data/Base_Provider_Enrollment_File.csv', low_memory=False)\n",
    "enrollments.head()"
   ]
  },
  {
   "cell_type": "code",
   "execution_count": 12,
   "metadata": {
    "collapsed": false
   },
   "outputs": [
    {
     "name": "stdout",
     "output_type": "stream",
     "text": [
      "2.055255 million total enrollments in PECOS dataset\n"
     ]
    }
   ],
   "source": [
    "total_enrollments = enrollments.shape[0]\n",
    "print('{0} million total enrollments in PECOS dataset'.format(float(total_enrollments)/1e6))"
   ]
  },
  {
   "cell_type": "code",
   "execution_count": 13,
   "metadata": {
    "collapsed": false
   },
   "outputs": [],
   "source": [
    "enrollments_grouped_by_npi = enrollments.groupby('NPI')"
   ]
  },
  {
   "cell_type": "code",
   "execution_count": 14,
   "metadata": {
    "collapsed": false
   },
   "outputs": [
    {
     "data": {
      "text/plain": [
       "(1632042, 11)"
      ]
     },
     "execution_count": 14,
     "metadata": {},
     "output_type": "execute_result"
    }
   ],
   "source": [
    "individual_enrollments = enrollments[pandas.isnull(enrollments['ORG_NAME'])]\n",
    "individual_enrollments.shape"
   ]
  }
 ],
 "metadata": {
  "kernelspec": {
   "display_name": "Python 3",
   "language": "python",
   "name": "python3"
  },
  "language_info": {
   "codemirror_mode": {
    "name": "ipython",
    "version": 3
   },
   "file_extension": ".py",
   "mimetype": "text/x-python",
   "name": "python",
   "nbconvert_exporter": "python",
   "pygments_lexer": "ipython3",
   "version": "3.5.1"
  }
 },
 "nbformat": 4,
 "nbformat_minor": 0
}
