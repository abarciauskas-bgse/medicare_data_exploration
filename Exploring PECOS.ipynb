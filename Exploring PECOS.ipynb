{
 "cells": [
  {
   "cell_type": "markdown",
   "metadata": {},
   "source": [
    "### PECOS Provider File\n",
    "\n",
    "Although I have some suspicions about this data being bad data.\n",
    "\n",
    "[Base Provider Enrollment File](https://data.cms.gov/Medicare-Enrollment/Base-Provider-Enrollment-File/ykfi-ffzq)\n",
    "\n",
    "> This file is a point in time snapshot of enrollment level data for providers actively enrolled in Medicare.\n",
    "\n",
    "https://data.cms.gov/public-provider-enrollment\n",
    "\n",
    "> * This data was last refreshed on January 25, 2017.\n",
    "> * The next data refresh is tentatively scheduled for April 2017.\n",
    "\n",
    "> The Public Provider Enrollment data for Medicare fee-for-service includes providers who are actively approved to bill Medicare or have completed the 855O at the time the data was pulled from the Provider Enrollment and Chain Ownership System (PECOS). The release of this provider enrollment data is not related to other provider information releases such as Physician Compare or Data Transparency.\n",
    "\n",
    "> These files are populated from PECOS and contain basic enrollment and provider information, reassignment of benefits information and practice location city, state and zip. These files are not intended to be used as real time reporting as the data changes from day to day and the files are updated only on a quarterly basis. If any information on these files needs to be updated, the provider needs to contact their respective Medicare Administrative Contractor (MAC) to have that information updated. To find your respective MAC, go to https://www.cms.gov/medicare/medicare-contracting/medicare-administrative-contractors/medicareadministrativecontractors.html.\n",
    "\n",
    "> This data does not include information on opt-out providers. Information is redacted where necessary to protect Medicare provider privacy.\n",
    "\n",
    "> To review more information about the Public Provider Enrollment data, please refer to the Data Dictionary and Data Guidance document.\n"
   ]
  },
  {
   "cell_type": "code",
   "execution_count": 3,
   "metadata": {
    "collapsed": false
   },
   "outputs": [
    {
     "data": {
      "text/html": [
       "<div>\n",
       "<table border=\"1\" class=\"dataframe\">\n",
       "  <thead>\n",
       "    <tr style=\"text-align: right;\">\n",
       "      <th></th>\n",
       "      <th>enrlmt_id</th>\n",
       "      <th>first_name</th>\n",
       "      <th>gndr_sw</th>\n",
       "      <th>last_name</th>\n",
       "      <th>mdl_name</th>\n",
       "      <th>npi</th>\n",
       "      <th>pecos_asct_cntl_id</th>\n",
       "      <th>provider_type_cd</th>\n",
       "      <th>provider_type_desc</th>\n",
       "      <th>state_cd</th>\n",
       "    </tr>\n",
       "  </thead>\n",
       "  <tbody>\n",
       "    <tr>\n",
       "      <th>0</th>\n",
       "      <td>I20031103000014</td>\n",
       "      <td>RHONDA</td>\n",
       "      <td>F</td>\n",
       "      <td>GRISSOM</td>\n",
       "      <td>G</td>\n",
       "      <td>1851357214</td>\n",
       "      <td>2466364161</td>\n",
       "      <td>14-30</td>\n",
       "      <td>PRACTITIONER - DIAGNOSTIC RADIOLOGY</td>\n",
       "      <td>KY</td>\n",
       "    </tr>\n",
       "    <tr>\n",
       "      <th>1</th>\n",
       "      <td>I20031103000013</td>\n",
       "      <td>JORGE</td>\n",
       "      <td>M</td>\n",
       "      <td>OSTOLAZA BEY</td>\n",
       "      <td>A</td>\n",
       "      <td>1831165075</td>\n",
       "      <td>5193637890</td>\n",
       "      <td>14-16</td>\n",
       "      <td>PRACTITIONER - OBSTETRICS/GYNECOLOGY</td>\n",
       "      <td>PR</td>\n",
       "    </tr>\n",
       "    <tr>\n",
       "      <th>2</th>\n",
       "      <td>I20031103000005</td>\n",
       "      <td>CHRISTOPHER</td>\n",
       "      <td>M</td>\n",
       "      <td>ZIEGLER</td>\n",
       "      <td>J</td>\n",
       "      <td>1003976986</td>\n",
       "      <td>7113839812</td>\n",
       "      <td>14-68</td>\n",
       "      <td>PRACTITIONER - CLINICAL PSYCHOLOGIST</td>\n",
       "      <td>PA</td>\n",
       "    </tr>\n",
       "    <tr>\n",
       "      <th>3</th>\n",
       "      <td>I20031103000028</td>\n",
       "      <td>DAMON</td>\n",
       "      <td>M</td>\n",
       "      <td>DELSTON</td>\n",
       "      <td>D</td>\n",
       "      <td>1720297963</td>\n",
       "      <td>7618889312</td>\n",
       "      <td>14-26</td>\n",
       "      <td>PRACTITIONER - PSYCHIATRY</td>\n",
       "      <td>NJ</td>\n",
       "    </tr>\n",
       "    <tr>\n",
       "      <th>4</th>\n",
       "      <td>I20031103000020</td>\n",
       "      <td>ANNA</td>\n",
       "      <td>F</td>\n",
       "      <td>MOY</td>\n",
       "      <td>NaN</td>\n",
       "      <td>1083835177</td>\n",
       "      <td>5991617698</td>\n",
       "      <td>14-41</td>\n",
       "      <td>PRACTITIONER - OPTOMETRY</td>\n",
       "      <td>NJ</td>\n",
       "    </tr>\n",
       "  </tbody>\n",
       "</table>\n",
       "</div>"
      ],
      "text/plain": [
       "         enrlmt_id   first_name gndr_sw     last_name mdl_name         npi  \\\n",
       "0  I20031103000014       RHONDA       F       GRISSOM        G  1851357214   \n",
       "1  I20031103000013        JORGE       M  OSTOLAZA BEY        A  1831165075   \n",
       "2  I20031103000005  CHRISTOPHER       M       ZIEGLER        J  1003976986   \n",
       "3  I20031103000028        DAMON       M       DELSTON        D  1720297963   \n",
       "4  I20031103000020         ANNA       F           MOY      NaN  1083835177   \n",
       "\n",
       "   pecos_asct_cntl_id provider_type_cd                    provider_type_desc  \\\n",
       "0          2466364161            14-30   PRACTITIONER - DIAGNOSTIC RADIOLOGY   \n",
       "1          5193637890            14-16  PRACTITIONER - OBSTETRICS/GYNECOLOGY   \n",
       "2          7113839812            14-68  PRACTITIONER - CLINICAL PSYCHOLOGIST   \n",
       "3          7618889312            14-26             PRACTITIONER - PSYCHIATRY   \n",
       "4          5991617698            14-41              PRACTITIONER - OPTOMETRY   \n",
       "\n",
       "  state_cd  \n",
       "0       KY  \n",
       "1       PR  \n",
       "2       PA  \n",
       "3       NJ  \n",
       "4       NJ  "
      ]
     },
     "execution_count": 3,
     "metadata": {},
     "output_type": "execute_result"
    }
   ],
   "source": [
    "import pandas\n",
    "http_source = 'https://data.cms.gov/resource/7b6b-dk5v.json'\n",
    "enrollments = pandas.read_json(http_source)\n",
    "enrollments.head()"
   ]
  },
  {
   "cell_type": "code",
   "execution_count": 61,
   "metadata": {
    "collapsed": false
   },
   "outputs": [
    {
     "name": "stdout",
     "output_type": "stream",
     "text": [
      "2.055255 million total enrollments in PECOS dataset\n"
     ]
    }
   ],
   "source": [
    "total_enrollments = enrollments.shape[0]\n",
    "print('{0} million total enrollments in PECOS dataset'.format(float(total_enrollments)/1e6))"
   ]
  },
  {
   "cell_type": "code",
   "execution_count": 62,
   "metadata": {
    "collapsed": false
   },
   "outputs": [
    {
     "name": "stdout",
     "output_type": "stream",
     "text": [
      "20.59% or 423213 group providers\n"
     ]
    }
   ],
   "source": [
    "group_enrollments = enrollments[pandas.notnull(enrollments['ORG_NAME'])]\n",
    "total_group_enrollments = group_enrollments.shape[0]\n",
    "percent_group_enrollments = round(float(total_group_enrollments)/total_enrollments*100, 2)\n",
    "print('{0}% or {1} group providers'.format(percent_group_enrollments, total_group_enrollments))"
   ]
  },
  {
   "cell_type": "code",
   "execution_count": 63,
   "metadata": {
    "collapsed": false
   },
   "outputs": [],
   "source": [
    "# number of npi's with multiple enrollments\n",
    "enrollments_grouped_by_npi = enrollments.groupby('NPI')"
   ]
  },
  {
   "cell_type": "code",
   "execution_count": 65,
   "metadata": {
    "collapsed": false
   },
   "outputs": [
    {
     "name": "stdout",
     "output_type": "stream",
     "text": [
      "14.55% of enrollments are multiples for the same NPI\n"
     ]
    }
   ],
   "source": [
    "group_size = enrollments_grouped_by_npi.size()\n",
    "npis_with_more_than_one_enrlmnt = group_size[group_size > 1]\n",
    "num_npis_with_more_than_one_enrlmnt = len(npis_with_more_than_one_enrlmnt)\n",
    "num_enrollments_which_are_multiples = npis_with_more_than_one_enrlmnt.sum()\n",
    "percent_enrollments_which_are_multiples = round(float(num_enrollments_which_are_multiples)/total_enrollments*100, 2)\n",
    "print('{0}% of enrollments are multiples for the same NPI'.format(percent_enrollments_which_are_multiples))"
   ]
  },
  {
   "cell_type": "code",
   "execution_count": 70,
   "metadata": {
    "collapsed": false
   },
   "outputs": [
    {
     "name": "stdout",
     "output_type": "stream",
     "text": [
      "Number of reassigments: 1.884063 million\n"
     ]
    }
   ],
   "source": [
    "reassignments = pandas.read_csv('pecos_data/Reassignment_Sub-_File.csv')\n",
    "num_reassignments = reassignments.shape[0]\n",
    "print('Number of reassigments: {0} million'.format(num_reassignments/1e6))"
   ]
  },
  {
   "cell_type": "code",
   "execution_count": 82,
   "metadata": {
    "collapsed": false
   },
   "outputs": [],
   "source": [
    "reassignments_grouped_by_enrollment_id = reassignments.groupby('REASGN_BNFT_ENRLMT_ID')\n",
    "grouped_reassignments_size = reassignments_grouped_by_enrollment_id.size()"
   ]
  },
  {
   "cell_type": "code",
   "execution_count": 84,
   "metadata": {
    "collapsed": false
   },
   "outputs": [
    {
     "name": "stdout",
     "output_type": "stream",
     "text": [
      "Number of enrollments with more than 1 reassignment: 372163\n"
     ]
    }
   ],
   "source": [
    "enrollments_with_more_than_one_reassignment = grouped_reassignments_size[grouped_reassignments_size > 1]\n",
    "print('Number of enrollments with more than 1 reassignment: {0}'.format(len(enrollments_with_more_than_one_reassignment)))"
   ]
  },
  {
   "cell_type": "markdown",
   "metadata": {},
   "source": [
    "*Herein lies an irresolvable - if a medicare beneficiary assigns benefits to more than one other we have to know the most recent assignment.*"
   ]
  },
  {
   "cell_type": "code",
   "execution_count": 79,
   "metadata": {
    "collapsed": false
   },
   "outputs": [
    {
     "data": {
      "text/html": [
       "<div>\n",
       "<table border=\"1\" class=\"dataframe\">\n",
       "  <thead>\n",
       "    <tr style=\"text-align: right;\">\n",
       "      <th></th>\n",
       "      <th>NPI</th>\n",
       "      <th>PECOS_ASCT_CNTL_ID</th>\n",
       "      <th>ENRLMT_ID</th>\n",
       "      <th>PROVIDER_TYPE_CD</th>\n",
       "      <th>PROVIDER_TYPE_DESC</th>\n",
       "      <th>STATE_CD</th>\n",
       "      <th>FIRST_NAME</th>\n",
       "      <th>MDL_NAME</th>\n",
       "      <th>LAST_NAME</th>\n",
       "      <th>ORG_NAME</th>\n",
       "      <th>GNDR_SW</th>\n",
       "      <th>REASGN_BNFT_ENRLMT_ID</th>\n",
       "      <th>RCV_BNFT_ENRLMT_ID</th>\n",
       "    </tr>\n",
       "  </thead>\n",
       "  <tbody>\n",
       "    <tr>\n",
       "      <th>0</th>\n",
       "      <td>1003879883</td>\n",
       "      <td>8022920719</td>\n",
       "      <td>I20031103000001</td>\n",
       "      <td>14-16</td>\n",
       "      <td>PRACTITIONER - OBSTETRICS/GYNECOLOGY</td>\n",
       "      <td>PR</td>\n",
       "      <td>ANTONIO</td>\n",
       "      <td>NaN</td>\n",
       "      <td>ALVAREZ RODRIGUEZ</td>\n",
       "      <td>NaN</td>\n",
       "      <td>M</td>\n",
       "      <td>I20031103000001</td>\n",
       "      <td>O20031216000213</td>\n",
       "    </tr>\n",
       "    <tr>\n",
       "      <th>1</th>\n",
       "      <td>1003976986</td>\n",
       "      <td>7113839812</td>\n",
       "      <td>I20031103000005</td>\n",
       "      <td>14-68</td>\n",
       "      <td>PRACTITIONER - CLINICAL PSYCHOLOGIST</td>\n",
       "      <td>PA</td>\n",
       "      <td>CHRISTOPHER</td>\n",
       "      <td>J</td>\n",
       "      <td>ZIEGLER</td>\n",
       "      <td>NaN</td>\n",
       "      <td>M</td>\n",
       "      <td>NaN</td>\n",
       "      <td>NaN</td>\n",
       "    </tr>\n",
       "    <tr>\n",
       "      <th>2</th>\n",
       "      <td>1831165075</td>\n",
       "      <td>5193637890</td>\n",
       "      <td>I20031103000013</td>\n",
       "      <td>14-16</td>\n",
       "      <td>PRACTITIONER - OBSTETRICS/GYNECOLOGY</td>\n",
       "      <td>PR</td>\n",
       "      <td>JORGE</td>\n",
       "      <td>A</td>\n",
       "      <td>OSTOLAZA BEY</td>\n",
       "      <td>NaN</td>\n",
       "      <td>M</td>\n",
       "      <td>NaN</td>\n",
       "      <td>NaN</td>\n",
       "    </tr>\n",
       "    <tr>\n",
       "      <th>3</th>\n",
       "      <td>1851357214</td>\n",
       "      <td>2466364161</td>\n",
       "      <td>I20031103000014</td>\n",
       "      <td>14-30</td>\n",
       "      <td>PRACTITIONER - DIAGNOSTIC RADIOLOGY</td>\n",
       "      <td>KY</td>\n",
       "      <td>RHONDA</td>\n",
       "      <td>G</td>\n",
       "      <td>GRISSOM</td>\n",
       "      <td>NaN</td>\n",
       "      <td>F</td>\n",
       "      <td>I20031103000014</td>\n",
       "      <td>O20031229000649</td>\n",
       "    </tr>\n",
       "    <tr>\n",
       "      <th>4</th>\n",
       "      <td>1083766935</td>\n",
       "      <td>5092627794</td>\n",
       "      <td>I20031103000015</td>\n",
       "      <td>14-35</td>\n",
       "      <td>PRACTITIONER - CHIROPRACTIC</td>\n",
       "      <td>NJ</td>\n",
       "      <td>TIMOTHY</td>\n",
       "      <td>J</td>\n",
       "      <td>DIECKMAN</td>\n",
       "      <td>NaN</td>\n",
       "      <td>M</td>\n",
       "      <td>NaN</td>\n",
       "      <td>NaN</td>\n",
       "    </tr>\n",
       "  </tbody>\n",
       "</table>\n",
       "</div>"
      ],
      "text/plain": [
       "          NPI  PECOS_ASCT_CNTL_ID        ENRLMT_ID PROVIDER_TYPE_CD  \\\n",
       "0  1003879883          8022920719  I20031103000001            14-16   \n",
       "1  1003976986          7113839812  I20031103000005            14-68   \n",
       "2  1831165075          5193637890  I20031103000013            14-16   \n",
       "3  1851357214          2466364161  I20031103000014            14-30   \n",
       "4  1083766935          5092627794  I20031103000015            14-35   \n",
       "\n",
       "                     PROVIDER_TYPE_DESC STATE_CD   FIRST_NAME MDL_NAME  \\\n",
       "0  PRACTITIONER - OBSTETRICS/GYNECOLOGY       PR      ANTONIO      NaN   \n",
       "1  PRACTITIONER - CLINICAL PSYCHOLOGIST       PA  CHRISTOPHER        J   \n",
       "2  PRACTITIONER - OBSTETRICS/GYNECOLOGY       PR        JORGE        A   \n",
       "3   PRACTITIONER - DIAGNOSTIC RADIOLOGY       KY       RHONDA        G   \n",
       "4           PRACTITIONER - CHIROPRACTIC       NJ      TIMOTHY        J   \n",
       "\n",
       "           LAST_NAME ORG_NAME GNDR_SW REASGN_BNFT_ENRLMT_ID RCV_BNFT_ENRLMT_ID  \n",
       "0  ALVAREZ RODRIGUEZ      NaN       M       I20031103000001    O20031216000213  \n",
       "1            ZIEGLER      NaN       M                   NaN                NaN  \n",
       "2       OSTOLAZA BEY      NaN       M                   NaN                NaN  \n",
       "3            GRISSOM      NaN       F       I20031103000014    O20031229000649  \n",
       "4           DIECKMAN      NaN       M                   NaN                NaN  "
      ]
     },
     "execution_count": 79,
     "metadata": {},
     "output_type": "execute_result"
    }
   ],
   "source": [
    "#result = pd.merge(enrollments, reassignments, on='ENRLMT_ID')\n",
    "reassignments.head()\n",
    "enrlmnts_with_reassignments = pandas.merge(\n",
    "    enrollments, reassignments, how = 'outer', left_on = 'ENRLMT_ID', right_on = 'REASGN_BNFT_ENRLMT_ID'\n",
    ")\n",
    "enrlmnts_with_reassignments.head()"
   ]
  }
 ],
 "metadata": {
  "kernelspec": {
   "display_name": "Python 3",
   "language": "python",
   "name": "python3"
  },
  "language_info": {
   "codemirror_mode": {
    "name": "ipython",
    "version": 3
   },
   "file_extension": ".py",
   "mimetype": "text/x-python",
   "name": "python",
   "nbconvert_exporter": "python",
   "pygments_lexer": "ipython3",
   "version": "3.6.0"
  }
 },
 "nbformat": 4,
 "nbformat_minor": 0
}
