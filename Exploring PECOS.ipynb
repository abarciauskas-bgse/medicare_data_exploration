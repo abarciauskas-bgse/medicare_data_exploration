{
 "cells": [
  {
   "cell_type": "code",
   "execution_count": 60,
   "metadata": {
    "collapsed": false
   },
   "outputs": [
    {
     "data": {
      "text/html": [
       "<div>\n",
       "<table border=\"1\" class=\"dataframe\">\n",
       "  <thead>\n",
       "    <tr style=\"text-align: right;\">\n",
       "      <th></th>\n",
       "      <th>NPI</th>\n",
       "      <th>PECOS_ASCT_CNTL_ID</th>\n",
       "      <th>ENRLMT_ID</th>\n",
       "      <th>PROVIDER_TYPE_CD</th>\n",
       "      <th>PROVIDER_TYPE_DESC</th>\n",
       "      <th>STATE_CD</th>\n",
       "      <th>FIRST_NAME</th>\n",
       "      <th>MDL_NAME</th>\n",
       "      <th>LAST_NAME</th>\n",
       "      <th>ORG_NAME</th>\n",
       "      <th>GNDR_SW</th>\n",
       "    </tr>\n",
       "  </thead>\n",
       "  <tbody>\n",
       "    <tr>\n",
       "      <th>0</th>\n",
       "      <td>1003879883</td>\n",
       "      <td>8022920719</td>\n",
       "      <td>I20031103000001</td>\n",
       "      <td>14-16</td>\n",
       "      <td>PRACTITIONER - OBSTETRICS/GYNECOLOGY</td>\n",
       "      <td>PR</td>\n",
       "      <td>ANTONIO</td>\n",
       "      <td>NaN</td>\n",
       "      <td>ALVAREZ RODRIGUEZ</td>\n",
       "      <td>NaN</td>\n",
       "      <td>M</td>\n",
       "    </tr>\n",
       "    <tr>\n",
       "      <th>1</th>\n",
       "      <td>1003976986</td>\n",
       "      <td>7113839812</td>\n",
       "      <td>I20031103000005</td>\n",
       "      <td>14-68</td>\n",
       "      <td>PRACTITIONER - CLINICAL PSYCHOLOGIST</td>\n",
       "      <td>PA</td>\n",
       "      <td>CHRISTOPHER</td>\n",
       "      <td>J</td>\n",
       "      <td>ZIEGLER</td>\n",
       "      <td>NaN</td>\n",
       "      <td>M</td>\n",
       "    </tr>\n",
       "    <tr>\n",
       "      <th>2</th>\n",
       "      <td>1831165075</td>\n",
       "      <td>5193637890</td>\n",
       "      <td>I20031103000013</td>\n",
       "      <td>14-16</td>\n",
       "      <td>PRACTITIONER - OBSTETRICS/GYNECOLOGY</td>\n",
       "      <td>PR</td>\n",
       "      <td>JORGE</td>\n",
       "      <td>A</td>\n",
       "      <td>OSTOLAZA BEY</td>\n",
       "      <td>NaN</td>\n",
       "      <td>M</td>\n",
       "    </tr>\n",
       "    <tr>\n",
       "      <th>3</th>\n",
       "      <td>1851357214</td>\n",
       "      <td>2466364161</td>\n",
       "      <td>I20031103000014</td>\n",
       "      <td>14-30</td>\n",
       "      <td>PRACTITIONER - DIAGNOSTIC RADIOLOGY</td>\n",
       "      <td>KY</td>\n",
       "      <td>RHONDA</td>\n",
       "      <td>G</td>\n",
       "      <td>GRISSOM</td>\n",
       "      <td>NaN</td>\n",
       "      <td>F</td>\n",
       "    </tr>\n",
       "    <tr>\n",
       "      <th>4</th>\n",
       "      <td>1083766935</td>\n",
       "      <td>5092627794</td>\n",
       "      <td>I20031103000015</td>\n",
       "      <td>14-35</td>\n",
       "      <td>PRACTITIONER - CHIROPRACTIC</td>\n",
       "      <td>NJ</td>\n",
       "      <td>TIMOTHY</td>\n",
       "      <td>J</td>\n",
       "      <td>DIECKMAN</td>\n",
       "      <td>NaN</td>\n",
       "      <td>M</td>\n",
       "    </tr>\n",
       "  </tbody>\n",
       "</table>\n",
       "</div>"
      ],
      "text/plain": [
       "          NPI  PECOS_ASCT_CNTL_ID        ENRLMT_ID PROVIDER_TYPE_CD  \\\n",
       "0  1003879883          8022920719  I20031103000001            14-16   \n",
       "1  1003976986          7113839812  I20031103000005            14-68   \n",
       "2  1831165075          5193637890  I20031103000013            14-16   \n",
       "3  1851357214          2466364161  I20031103000014            14-30   \n",
       "4  1083766935          5092627794  I20031103000015            14-35   \n",
       "\n",
       "                     PROVIDER_TYPE_DESC STATE_CD   FIRST_NAME MDL_NAME  \\\n",
       "0  PRACTITIONER - OBSTETRICS/GYNECOLOGY       PR      ANTONIO      NaN   \n",
       "1  PRACTITIONER - CLINICAL PSYCHOLOGIST       PA  CHRISTOPHER        J   \n",
       "2  PRACTITIONER - OBSTETRICS/GYNECOLOGY       PR        JORGE        A   \n",
       "3   PRACTITIONER - DIAGNOSTIC RADIOLOGY       KY       RHONDA        G   \n",
       "4           PRACTITIONER - CHIROPRACTIC       NJ      TIMOTHY        J   \n",
       "\n",
       "           LAST_NAME ORG_NAME GNDR_SW  \n",
       "0  ALVAREZ RODRIGUEZ      NaN       M  \n",
       "1            ZIEGLER      NaN       M  \n",
       "2       OSTOLAZA BEY      NaN       M  \n",
       "3            GRISSOM      NaN       F  \n",
       "4           DIECKMAN      NaN       M  "
      ]
     },
     "execution_count": 60,
     "metadata": {},
     "output_type": "execute_result"
    }
   ],
   "source": [
    "import pandas\n",
    "enrollments = pandas.read_csv('pecos_data/Base_Provider_Enrollment_File.csv', low_memory=False)\n",
    "enrollments.head()"
   ]
  },
  {
   "cell_type": "code",
   "execution_count": 61,
   "metadata": {
    "collapsed": false
   },
   "outputs": [
    {
     "name": "stdout",
     "output_type": "stream",
     "text": [
      "2.055255 million total enrollments in PECOS dataset\n"
     ]
    }
   ],
   "source": [
    "total_enrollments = enrollments.shape[0]\n",
    "print('{0} million total enrollments in PECOS dataset'.format(float(total_enrollments)/1e6))"
   ]
  },
  {
   "cell_type": "code",
   "execution_count": 62,
   "metadata": {
    "collapsed": false
   },
   "outputs": [
    {
     "name": "stdout",
     "output_type": "stream",
     "text": [
      "20.59% or 423213 group providers\n"
     ]
    }
   ],
   "source": [
    "group_enrollments = enrollments[pandas.notnull(enrollments['ORG_NAME'])]\n",
    "total_group_enrollments = group_enrollments.shape[0]\n",
    "percent_group_enrollments = round(float(total_group_enrollments)/total_enrollments*100, 2)\n",
    "print('{0}% or {1} group providers'.format(percent_group_enrollments, total_group_enrollments))"
   ]
  },
  {
   "cell_type": "code",
   "execution_count": 63,
   "metadata": {
    "collapsed": false
   },
   "outputs": [],
   "source": [
    "# number of npi's with multiple enrollments\n",
    "enrollments_grouped_by_npi = enrollments.groupby('NPI')"
   ]
  },
  {
   "cell_type": "code",
   "execution_count": 65,
   "metadata": {
    "collapsed": false
   },
   "outputs": [
    {
     "name": "stdout",
     "output_type": "stream",
     "text": [
      "14.55% of enrollments are multiples for the same NPI\n"
     ]
    }
   ],
   "source": [
    "group_size = enrollments_grouped_by_npi.size()\n",
    "npis_with_more_than_one_enrlmnt = group_size[group_size > 1]\n",
    "num_npis_with_more_than_one_enrlmnt = len(npis_with_more_than_one_enrlmnt)\n",
    "num_enrollments_which_are_multiples = npis_with_more_than_one_enrlmnt.sum()\n",
    "percent_enrollments_which_are_multiples = round(float(num_enrollments_which_are_multiples)/total_enrollments*100, 2)\n",
    "print('{0}% of enrollments are multiples for the same NPI'.format(percent_enrollments_which_are_multiples))"
   ]
  },
  {
   "cell_type": "code",
   "execution_count": 70,
   "metadata": {
    "collapsed": false
   },
   "outputs": [
    {
     "name": "stdout",
     "output_type": "stream",
     "text": [
      "Number of reassigments: 1.884063 million\n"
     ]
    }
   ],
   "source": [
    "reassignments = pandas.read_csv('pecos_data/Reassignment_Sub-_File.csv')\n",
    "num_reassignments = reassignments.shape[0]\n",
    "print('Number of reassigments: {0} million'.format(num_reassignments/1e6))"
   ]
  },
  {
   "cell_type": "code",
   "execution_count": 82,
   "metadata": {
    "collapsed": false
   },
   "outputs": [],
   "source": [
    "reassignments_grouped_by_enrollment_id = reassignments.groupby('REASGN_BNFT_ENRLMT_ID')\n",
    "grouped_reassignments_size = reassignments_grouped_by_enrollment_id.size()"
   ]
  },
  {
   "cell_type": "code",
   "execution_count": 84,
   "metadata": {
    "collapsed": false
   },
   "outputs": [
    {
     "name": "stdout",
     "output_type": "stream",
     "text": [
      "Number of enrollments with more than 1 reassignment: 372163\n"
     ]
    }
   ],
   "source": [
    "enrollments_with_more_than_one_reassignment = grouped_reassignments_size[grouped_reassignments_size > 1]\n",
    "print('Number of enrollments with more than 1 reassignment: {0}'.format(len(enrollments_with_more_than_one_reassignment)))"
   ]
  },
  {
   "cell_type": "markdown",
   "metadata": {},
   "source": [
    "*Herein lies an irresolvable - if a medicare beneficiary assigns benefits to more than one other we have to know the most recent assignment.*"
   ]
  },
  {
   "cell_type": "code",
   "execution_count": 79,
   "metadata": {
    "collapsed": false
   },
   "outputs": [
    {
     "data": {
      "text/html": [
       "<div>\n",
       "<table border=\"1\" class=\"dataframe\">\n",
       "  <thead>\n",
       "    <tr style=\"text-align: right;\">\n",
       "      <th></th>\n",
       "      <th>NPI</th>\n",
       "      <th>PECOS_ASCT_CNTL_ID</th>\n",
       "      <th>ENRLMT_ID</th>\n",
       "      <th>PROVIDER_TYPE_CD</th>\n",
       "      <th>PROVIDER_TYPE_DESC</th>\n",
       "      <th>STATE_CD</th>\n",
       "      <th>FIRST_NAME</th>\n",
       "      <th>MDL_NAME</th>\n",
       "      <th>LAST_NAME</th>\n",
       "      <th>ORG_NAME</th>\n",
       "      <th>GNDR_SW</th>\n",
       "      <th>REASGN_BNFT_ENRLMT_ID</th>\n",
       "      <th>RCV_BNFT_ENRLMT_ID</th>\n",
       "    </tr>\n",
       "  </thead>\n",
       "  <tbody>\n",
       "    <tr>\n",
       "      <th>0</th>\n",
       "      <td>1003879883</td>\n",
       "      <td>8022920719</td>\n",
       "      <td>I20031103000001</td>\n",
       "      <td>14-16</td>\n",
       "      <td>PRACTITIONER - OBSTETRICS/GYNECOLOGY</td>\n",
       "      <td>PR</td>\n",
       "      <td>ANTONIO</td>\n",
       "      <td>NaN</td>\n",
       "      <td>ALVAREZ RODRIGUEZ</td>\n",
       "      <td>NaN</td>\n",
       "      <td>M</td>\n",
       "      <td>I20031103000001</td>\n",
       "      <td>O20031216000213</td>\n",
       "    </tr>\n",
       "    <tr>\n",
       "      <th>1</th>\n",
       "      <td>1003976986</td>\n",
       "      <td>7113839812</td>\n",
       "      <td>I20031103000005</td>\n",
       "      <td>14-68</td>\n",
       "      <td>PRACTITIONER - CLINICAL PSYCHOLOGIST</td>\n",
       "      <td>PA</td>\n",
       "      <td>CHRISTOPHER</td>\n",
       "      <td>J</td>\n",
       "      <td>ZIEGLER</td>\n",
       "      <td>NaN</td>\n",
       "      <td>M</td>\n",
       "      <td>NaN</td>\n",
       "      <td>NaN</td>\n",
       "    </tr>\n",
       "    <tr>\n",
       "      <th>2</th>\n",
       "      <td>1831165075</td>\n",
       "      <td>5193637890</td>\n",
       "      <td>I20031103000013</td>\n",
       "      <td>14-16</td>\n",
       "      <td>PRACTITIONER - OBSTETRICS/GYNECOLOGY</td>\n",
       "      <td>PR</td>\n",
       "      <td>JORGE</td>\n",
       "      <td>A</td>\n",
       "      <td>OSTOLAZA BEY</td>\n",
       "      <td>NaN</td>\n",
       "      <td>M</td>\n",
       "      <td>NaN</td>\n",
       "      <td>NaN</td>\n",
       "    </tr>\n",
       "    <tr>\n",
       "      <th>3</th>\n",
       "      <td>1851357214</td>\n",
       "      <td>2466364161</td>\n",
       "      <td>I20031103000014</td>\n",
       "      <td>14-30</td>\n",
       "      <td>PRACTITIONER - DIAGNOSTIC RADIOLOGY</td>\n",
       "      <td>KY</td>\n",
       "      <td>RHONDA</td>\n",
       "      <td>G</td>\n",
       "      <td>GRISSOM</td>\n",
       "      <td>NaN</td>\n",
       "      <td>F</td>\n",
       "      <td>I20031103000014</td>\n",
       "      <td>O20031229000649</td>\n",
       "    </tr>\n",
       "    <tr>\n",
       "      <th>4</th>\n",
       "      <td>1083766935</td>\n",
       "      <td>5092627794</td>\n",
       "      <td>I20031103000015</td>\n",
       "      <td>14-35</td>\n",
       "      <td>PRACTITIONER - CHIROPRACTIC</td>\n",
       "      <td>NJ</td>\n",
       "      <td>TIMOTHY</td>\n",
       "      <td>J</td>\n",
       "      <td>DIECKMAN</td>\n",
       "      <td>NaN</td>\n",
       "      <td>M</td>\n",
       "      <td>NaN</td>\n",
       "      <td>NaN</td>\n",
       "    </tr>\n",
       "  </tbody>\n",
       "</table>\n",
       "</div>"
      ],
      "text/plain": [
       "          NPI  PECOS_ASCT_CNTL_ID        ENRLMT_ID PROVIDER_TYPE_CD  \\\n",
       "0  1003879883          8022920719  I20031103000001            14-16   \n",
       "1  1003976986          7113839812  I20031103000005            14-68   \n",
       "2  1831165075          5193637890  I20031103000013            14-16   \n",
       "3  1851357214          2466364161  I20031103000014            14-30   \n",
       "4  1083766935          5092627794  I20031103000015            14-35   \n",
       "\n",
       "                     PROVIDER_TYPE_DESC STATE_CD   FIRST_NAME MDL_NAME  \\\n",
       "0  PRACTITIONER - OBSTETRICS/GYNECOLOGY       PR      ANTONIO      NaN   \n",
       "1  PRACTITIONER - CLINICAL PSYCHOLOGIST       PA  CHRISTOPHER        J   \n",
       "2  PRACTITIONER - OBSTETRICS/GYNECOLOGY       PR        JORGE        A   \n",
       "3   PRACTITIONER - DIAGNOSTIC RADIOLOGY       KY       RHONDA        G   \n",
       "4           PRACTITIONER - CHIROPRACTIC       NJ      TIMOTHY        J   \n",
       "\n",
       "           LAST_NAME ORG_NAME GNDR_SW REASGN_BNFT_ENRLMT_ID RCV_BNFT_ENRLMT_ID  \n",
       "0  ALVAREZ RODRIGUEZ      NaN       M       I20031103000001    O20031216000213  \n",
       "1            ZIEGLER      NaN       M                   NaN                NaN  \n",
       "2       OSTOLAZA BEY      NaN       M                   NaN                NaN  \n",
       "3            GRISSOM      NaN       F       I20031103000014    O20031229000649  \n",
       "4           DIECKMAN      NaN       M                   NaN                NaN  "
      ]
     },
     "execution_count": 79,
     "metadata": {},
     "output_type": "execute_result"
    }
   ],
   "source": [
    "#result = pd.merge(enrollments, reassignments, on='ENRLMT_ID')\n",
    "reassignments.head()\n",
    "enrlmnts_with_reassignments = pandas.merge(\n",
    "    enrollments, reassignments, how = 'outer', left_on = 'ENRLMT_ID', right_on = 'REASGN_BNFT_ENRLMT_ID'\n",
    ")\n",
    "enrlmnts_with_reassignments.head()"
   ]
  }
 ],
 "metadata": {
  "kernelspec": {
   "display_name": "Python 3",
   "language": "python",
   "name": "python3"
  },
  "language_info": {
   "codemirror_mode": {
    "name": "ipython",
    "version": 3
   },
   "file_extension": ".py",
   "mimetype": "text/x-python",
   "name": "python",
   "nbconvert_exporter": "python",
   "pygments_lexer": "ipython3",
   "version": "3.5.1"
  }
 },
 "nbformat": 4,
 "nbformat_minor": 0
}
