{
 "cells": [
  {
   "cell_type": "markdown",
   "metadata": {},
   "source": [
    "### 2015 Measure List\n",
    "\n",
    "[source: data.cms.gov](https://data.cms.gov/dataset/2015-Measure-List/bj2d-5cr5)"
   ]
  },
  {
   "cell_type": "code",
   "execution_count": 5,
   "metadata": {
    "collapsed": false
   },
   "outputs": [
    {
     "name": "stdout",
     "output_type": "stream",
     "text": [
      "Number of known 2017 quality measures: 271\n"
     ]
    }
   ],
   "source": [
    "import pandas\n",
    "measures_data = pandas.read_json('../qpp-measures-data/measures/measures-data.json')\n",
    "quality_measures = measures_data[measures_data['category'] == 'quality']\n",
    "quality_measure_id_set = set(quality_measures['measureId'])\n",
    "print('Number of known 2017 quality measures: {0}'.format(len(quality_measure_id_set)))"
   ]
  },
  {
   "cell_type": "code",
   "execution_count": 57,
   "metadata": {
    "collapsed": false
   },
   "outputs": [
    {
     "name": "stdout",
     "output_type": "stream",
     "text": [
      "Number of 2015 PQRS measures: 254\n"
     ]
    }
   ],
   "source": [
    "pqrs_measures = pandas.read_csv('quality_data/2015_Measure_List.csv')\n",
    "# Drop rows with no measure number (only 1 row)\n",
    "pqrs_measures = pqrs_measures.dropna(subset=['PQRS Measure Number'])\n",
    "# Cast to int then string, reads in as float\n",
    "pqrs_measures['PQRS Measure Number'] = pqrs_measures['PQRS Measure Number'].astype(int).astype(str)\n",
    "# Create a set\n",
    "pqrs_measure_id_set = set(pqrs_measures['PQRS Measure Number'])\n",
    "print('Number of 2015 PQRS measures: {0}'.format(len(pqrs_measure_id_set)))"
   ]
  },
  {
   "cell_type": "markdown",
   "metadata": {},
   "source": [
    "I notice that for measures which have CMS Measure numbers, they might exist in the new measure set but with a different version.\n",
    "\n",
    "#### First intersection is between PQRS 'PQRS Measure Number' and 2017 'measureId'"
   ]
  },
  {
   "cell_type": "code",
   "execution_count": 58,
   "metadata": {
    "collapsed": false
   },
   "outputs": [
    {
     "name": "stdout",
     "output_type": "stream",
     "text": [
      "['CMS132v50564192', '0711411', '271', '259', '0659185']\n",
      "['271', '259', '357', '19', '137']\n"
     ]
    },
    {
     "data": {
      "text/plain": [
       "85"
      ]
     },
     "execution_count": 58,
     "metadata": {},
     "output_type": "execute_result"
    }
   ],
   "source": [
    "print(list(quality_measure_id_set)[0:5])\n",
    "print(list(pqrs_measure_id_set)[0:5])\n",
    "matching_measure_ids = pqrs_measure_id_set.intersection(quality_measure_id_set)\n",
    "matched_on_pqrs_measure_number = len(matching_measure_ids)\n",
    "matched_on_pqrs_measure_number"
   ]
  },
  {
   "cell_type": "code",
   "execution_count": 59,
   "metadata": {
    "collapsed": false
   },
   "outputs": [
    {
     "name": "stdout",
     "output_type": "stream",
     "text": [
      "(Sanity check) Not yet matched plus matched by PQRS Measure Number: 271\n"
     ]
    }
   ],
   "source": [
    "# looks like they also match on qualityId\n",
    "# filter quality measures on those already matched\n",
    "not_yet_matched_by_measure_id_measures = quality_measures[~quality_measures['measureId'].isin(matching_measure_ids)]\n",
    "# sanity check\n",
    "not_yet_matched_plus_matched = not_yet_matched_by_measure_id_measures.shape[0] + matched_on_pqrs_measure_number\n",
    "print('(Sanity check) Not yet matched plus matched by PQRS Measure Number: {0}'.format(not_yet_matched_plus_matched))"
   ]
  },
  {
   "cell_type": "markdown",
   "metadata": {},
   "source": [
    "#### Match 2015 'qualityId' with 2017 'measureId'"
   ]
  },
  {
   "cell_type": "code",
   "execution_count": 60,
   "metadata": {
    "collapsed": false
   },
   "outputs": [
    {
     "name": "stdout",
     "output_type": "stream",
     "text": [
      "Number of measures matched on qualityId: 130\n",
      "Total matched so far: 215\n"
     ]
    }
   ],
   "source": [
    "not_yet_matched_quality_id_set = set(not_yet_matched_by_measure_id_measures['qualityId'].astype(int).astype(str))\n",
    "\n",
    "# ignore pqrs measure ids already matched\n",
    "# difference -> new set with elements in pqrs_measure_id_set but not in matching_measures_ids\n",
    "remaining_pqrs_measure_id_set = pqrs_measure_id_set.difference(matching_measure_ids)\n",
    "# sanity check\n",
    "len(remaining_pqrs_measure_id_set) + 85 # looks right - one NA was removed\n",
    "\n",
    "matching_measure_ids_by_quality_id = remaining_pqrs_measure_id_set.intersection(not_yet_matched_quality_id_set)\n",
    "matched_on_quality_id = len(matching_measure_ids_by_quality_id)\n",
    "print('Number of measures matched on qualityId: {0}'.format(matched_on_quality_id))\n",
    "print('Total matched so far: {0}'.format(matched_on_quality_id + matched_on_pqrs_measure_number))"
   ]
  },
  {
   "cell_type": "markdown",
   "metadata": {},
   "source": [
    "## Sanity check"
   ]
  },
  {
   "cell_type": "code",
   "execution_count": 76,
   "metadata": {
    "collapsed": false
   },
   "outputs": [
    {
     "data": {
      "text/plain": [
       "(85, 52)"
      ]
     },
     "execution_count": 76,
     "metadata": {},
     "output_type": "execute_result"
    }
   ],
   "source": [
    "quality_measure_key = 'measureId'\n",
    "pqrs_measure_key = 'PQRS Measure Number'\n",
    "\n",
    "joined_on_measureId = pandas.merge(\n",
    "    quality_measures,\n",
    "    pqrs_measures, how='inner',\n",
    "    left_on=quality_measure_key,\n",
    "    right_on=pqrs_measure_key\n",
    ")\n",
    "joined_on_measureId.shape"
   ]
  },
  {
   "cell_type": "code",
   "execution_count": 78,
   "metadata": {
    "collapsed": false
   },
   "outputs": [
    {
     "name": "stderr",
     "output_type": "stream",
     "text": [
      "/usr/local/lib/python3.5/site-packages/ipykernel/__main__.py:2: SettingWithCopyWarning: \n",
      "A value is trying to be set on a copy of a slice from a DataFrame.\n",
      "Try using .loc[row_indexer,col_indexer] = value instead\n",
      "\n",
      "See the caveats in the documentation: http://pandas.pydata.org/pandas-docs/stable/indexing.html#indexing-view-versus-copy\n",
      "  from ipykernel import kernelapp as app\n"
     ]
    },
    {
     "data": {
      "text/plain": [
       "(215, 52)"
      ]
     },
     "execution_count": 78,
     "metadata": {},
     "output_type": "execute_result"
    }
   ],
   "source": [
    "quality_measure_key = 'qualityId'\n",
    "quality_measures[quality_measure_key] = quality_measures[quality_measure_key].astype(int).astype(str)\n",
    "\n",
    "joined_on_qualityId = pandas.merge(\n",
    "    quality_measures,\n",
    "    pqrs_measures, how='inner',\n",
    "    left_on=quality_measure_key,\n",
    "    right_on=pqrs_measure_key\n",
    ")\n",
    "joined_on_qualityId.shape\n"
   ]
  },
  {
   "cell_type": "markdown",
   "metadata": {},
   "source": [
    "#### Ah so qualityId is the thing to use!"
   ]
  }
 ],
 "metadata": {
  "kernelspec": {
   "display_name": "Python 3",
   "language": "python",
   "name": "python3"
  },
  "language_info": {
   "codemirror_mode": {
    "name": "ipython",
    "version": 3
   },
   "file_extension": ".py",
   "mimetype": "text/x-python",
   "name": "python",
   "nbconvert_exporter": "python",
   "pygments_lexer": "ipython3",
   "version": "3.5.1"
  }
 },
 "nbformat": 4,
 "nbformat_minor": 0
}
