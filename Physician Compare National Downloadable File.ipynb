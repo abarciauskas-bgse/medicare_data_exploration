{
 "cells": [
  {
   "cell_type": "markdown",
   "metadata": {},
   "source": [
    "### Physician Compare National Downloadable File\n",
    "\n",
    "[source: data.medicare.gov](https://data.medicare.gov/Physician-Compare/Physician-Compare-National-Downloadable-File/mj5m-pzi6)\n",
    "\n",
    "> The Physician Compare National Downloadable File is organized at the individual eligible professional level; each line is unique at the professional/enrollment record/Group Practice/address level. Professionals with multiple Medicare enrollment records and/or single enrollments linking to multiple practice location addresses are listed on multiple lines."
   ]
  },
  {
   "cell_type": "code",
   "execution_count": 2,
   "metadata": {
    "collapsed": false
   },
   "outputs": [],
   "source": [
    "import pandas\n",
    "physicians = pandas.read_csv('medicare_data/Physician_Compare_National_Downloadable_File.csv', low_memory=False)"
   ]
  },
  {
   "cell_type": "code",
   "execution_count": 3,
   "metadata": {
    "collapsed": false
   },
   "outputs": [
    {
     "name": "stdout",
     "output_type": "stream",
     "text": [
      "number of location enrollments: 2247118\n"
     ]
    }
   ],
   "source": [
    "print('number of location enrollments: {0}'.format(physicians.shape[0]))"
   ]
  },
  {
   "cell_type": "code",
   "execution_count": 15,
   "metadata": {
    "collapsed": false
   },
   "outputs": [
    {
     "data": {
      "text/plain": [
       "Index(['NPI', 'PAC ID', 'Professional Enrollment ID', 'Last Name',\n",
       "       'First Name', 'Middle Name', 'Suffix', 'Gender', 'Credential',\n",
       "       'Medical school name', 'Graduation year', 'Primary specialty',\n",
       "       'Secondary specialty 1', 'Secondary specialty 2',\n",
       "       'Secondary specialty 3', 'Secondary specialty 4',\n",
       "       'All secondary specialties', 'Organization legal name',\n",
       "       'Group Practice PAC ID', 'Number of Group Practice members',\n",
       "       'Line 1 Street Address', 'Line 2 Street Address',\n",
       "       'Marker of address line 2 suppression', 'City', 'State', 'Zip Code',\n",
       "       'Phone Number', 'Hospital affiliation CCN 1',\n",
       "       'Hospital affiliation LBN 1', 'Hospital affiliation CCN 2',\n",
       "       'Hospital affiliation LBN 2', 'Hospital affiliation CCN 3',\n",
       "       'Hospital affiliation LBN 3', 'Hospital affiliation CCN 4',\n",
       "       'Hospital affiliation LBN 4', 'Hospital affiliation CCN 5',\n",
       "       'Hospital affiliation LBN 5',\n",
       "       'Professional accepts Medicare Assignment', 'Reported Quality Measures',\n",
       "       'Used electronic health records',\n",
       "       'Participated in the Medicare Maintenance of Certification Program.',\n",
       "       'Committed to heart health through the Million Hearts® initiative.'],\n",
       "      dtype='object')"
      ]
     },
     "execution_count": 15,
     "metadata": {},
     "output_type": "execute_result"
    }
   ],
   "source": [
    "physicians.columns"
   ]
  },
  {
   "cell_type": "code",
   "execution_count": 7,
   "metadata": {
    "collapsed": false
   },
   "outputs": [
    {
     "data": {
      "text/plain": [
       "1062042"
      ]
     },
     "execution_count": 7,
     "metadata": {},
     "output_type": "execute_result"
    }
   ],
   "source": [
    "import numpy as np\n",
    "len(np.unique(physicians['Professional Enrollment ID']))"
   ]
  },
  {
   "cell_type": "code",
   "execution_count": 8,
   "metadata": {
    "collapsed": true
   },
   "outputs": [],
   "source": [
    "grouped_by_prof_enr_id = physicians.groupby('Professional Enrollment ID')"
   ]
  },
  {
   "cell_type": "code",
   "execution_count": 16,
   "metadata": {
    "collapsed": false
   },
   "outputs": [
    {
     "data": {
      "text/plain": [
       "array([[1447638408, 4880905348, 'I20150624002504', 'KARIMI', 'SONYA',\n",
       "        'CRYSTAL', nan, 'F', nan, 'OTHER', 2014.0, 'OCCUPATIONAL THERAPY',\n",
       "        nan, nan, nan, nan, nan, 'CHT REHAB, LLC', 7416181730.0, 5.0,\n",
       "        '3415 INDEPENDENCE DR', 'SUITE 219', nan, 'HOMEWOOD', 'AL',\n",
       "        '352098315', '2058028537', nan, nan, nan, nan, nan, nan, nan, nan,\n",
       "        nan, nan, 'Y', nan, nan, nan, nan],\n",
       "       [1447638408, 4880905348, 'I20150624002504', 'KARIMI', 'SONYA',\n",
       "        'CRYSTAL', nan, 'F', nan, 'OTHER', 2014.0, 'OCCUPATIONAL THERAPY',\n",
       "        nan, nan, nan, nan, nan, 'CHT REHAB, LLC', 7416181730.0, 5.0,\n",
       "        '3415 INDEPENDENCE DR', nan, nan, 'HOMEWOOD', 'AL', '352098315',\n",
       "        '2058028537', nan, nan, nan, nan, nan, nan, nan, nan, nan, nan,\n",
       "        'Y', nan, nan, nan, nan]], dtype=object)"
      ]
     },
     "execution_count": 16,
     "metadata": {},
     "output_type": "execute_result"
    }
   ],
   "source": [
    "grouped_by_prof_enr_id.get_group('I20150624002504').values"
   ]
  },
  {
   "cell_type": "markdown",
   "metadata": {},
   "source": [
    "#### Data is very raw, this doesn't appear dedupped at all, the only difference I see is the first address includes a suite number"
   ]
  }
 ],
 "metadata": {
  "kernelspec": {
   "display_name": "Python 3",
   "language": "python",
   "name": "python3"
  },
  "language_info": {
   "codemirror_mode": {
    "name": "ipython",
    "version": 3
   },
   "file_extension": ".py",
   "mimetype": "text/x-python",
   "name": "python",
   "nbconvert_exporter": "python",
   "pygments_lexer": "ipython3",
   "version": "3.5.1"
  }
 },
 "nbformat": 4,
 "nbformat_minor": 2
}
